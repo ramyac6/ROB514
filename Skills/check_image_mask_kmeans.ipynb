{
 "cells": [
  {
   "cell_type": "code",
   "execution_count": null,
   "metadata": {
    "deletable": false,
    "editable": false
   },
   "outputs": [],
   "source": [
    "# Initialize Otter\n",
    "import otter\n",
    "grader = otter.Notebook(\"check_image_mask_kmeans.ipynb\")"
   ]
  },
  {
   "cell_type": "markdown",
   "metadata": {},
   "source": [
    "# Instructions\n",
    "\n",
    "This assignment introduces you to a common task (creating a segmentation mask) and a common tool (kmeans) for doing clustering of data and the difference in color spaces.\n",
    "\n",
    "Slides: https://docs.google.com/presentation/d/1qZ2NbB7Hrqt1rXhr7lI3vzIdlLHq94JU-L_H3ZELJL8/edit?usp=sharing\n",
    "\n",
    "See the stats assignment for setting up/calling kmeans"
   ]
  },
  {
   "cell_type": "code",
   "execution_count": null,
   "metadata": {},
   "outputs": [],
   "source": [
    "# There are no shortage of kmeans implementations out there - using scipy's\n",
    "import numpy as np\n",
    "from scipy.cluster.vq import kmeans, vq, whiten\n",
    "import imageio\n",
    "from numpy.random import normal, uniform, randint\n",
    "import matplotlib.pyplot as plt\n",
    "from skimage.color import rgb2hsv"
   ]
  },
  {
   "cell_type": "markdown",
   "metadata": {},
   "source": [
    "<!-- BEGIN QUESTION -->\n",
    "\n",
    "# Run kmeans on multiple images\n",
    "\n",
    "Note: See slides for what order to *implement* these in - this is the order for the code itself. I highly recommend *against* writing it all and then trying to debug it. Do one bit at a time.\n",
    "\n",
    "- Step 1: If use_hsv is true, convert the image to hsv (see skimage rgb2hsv - skimage has a ton of these conversion routines)\n",
    "- Step 2: reshape the data to be an nx3 matrix kmeans assumes each row is a data point. So you have to give it a (widthXheight) X 3 matrix, not the imagedata as-is (WXHX3). See numpy reshape.\n",
    "- Step 3: Whiten the data\n",
    "- Step 4: Call kmeans with the whitened data to get out the centers\n",
    " Note: kmeans returns a tuple with the centers in the first part and the overall fit in the second\n",
    "- Step 5: Get the ids out using vq\n",
    "    -- This also returns a tuple; the ids for each pixel are in the first part\n",
    "    -- You might find the syntax data[ids == i, 0:3] = rgb_color[i] useful - this gets all the data elements with ids with value i and sets them to the color in rgb_color\n",
    "- Step 5: Create a mask image, and set the colors by rgb_color[ id for pixel ]\n",
    "- Step 6: Create a second mask image, setting the color to be the average color of the cluster\n",
    "\n",
    "Two ways to do this\n",
    " -  \"undo\" the whitening step on the returned cluster (harder)\n",
    " -  Calculate the means of the clusters in the original data\n",
    "    np.mean(data[ids == c])\n",
    "   \n",
    "- Step 7: use rgb2hsv to handle the hsv option\n",
    "- Simplest way to do this: Copy the code you did before and re-do after converting to hsv first\n",
    "     Don't forget to take the color centers in the *original* image, not the hsv one\n",
    "     Don't forget to rename your variables\n",
    "\n",
    "More complicated: Make a function. Most of the code is the same, except for a conversion to hsv at the beginning"
   ]
  },
  {
   "cell_type": "code",
   "execution_count": null,
   "metadata": {
    "tags": []
   },
   "outputs": [],
   "source": [
    "def read_and_cluster_image(image_name, use_hsv, n_clusters):\n",
    "    \"\"\" Read in the image, cluster the pixels by color (either rgb or hsv), then\n",
    "    draw the clusters as an image mask, colored by both a random color and the center\n",
    "    color of the cluster\n",
    "    @image_name - name of image in Data\n",
    "    @use_hsv - use hsv, y/n\n",
    "    @n_clusters - number of clusters (up to 6)\"\"\"\n",
    "\n",
    "    # Read in the file\n",
    "    im_orig = imageio.imread(\"Data/\" + image_name)\n",
    "    # Make sure you just have rgb (for those images with an alpha channel)\n",
    "    im_orig = im_orig[:, :, 0:3]\n",
    "\n",
    "    # The plot to put the images in\n",
    "    fig, axs = plt.subplots(1, 3, figsize=(12, 4))\n",
    "\n",
    "    # Make name for the image from the input parameters\n",
    "    str_im_name = image_name.split('.')[0] + \" \"\n",
    "    if use_hsv:\n",
    "        str_im_name += \"HSV\"\n",
    "    else:\n",
    "        str_im_name += \"RGB\"\n",
    "\n",
    "    str_im_name += f\", k={n_clusters}\"\n",
    "\n",
    "    # This is how you draw an image in a matplotlib figure\n",
    "    axs[0].imshow(im_orig)\n",
    "    # This sets the title\n",
    "    axs[0].set_title(str_im_name)\n",
    "\n",
    "    # An array of some default color values to use for making the rgb mask image\n",
    "    rgb_color = [[255, 0, 0], [0, 255, 0], [0, 0, 255], [255, 255, 0], [0, 255, 255], [255, 0, 255]]\n",
    "    ...\n",
    "    axs[1].set_title(\"ID colored by rgb\")\n",
    "    axs[2].set_title(\"ID colored by cluster average\")\n"
   ]
  },
  {
   "cell_type": "code",
   "execution_count": null,
   "metadata": {
    "tags": []
   },
   "outputs": [],
   "source": [
    "# Test the code with NO hsv transform\n",
    "read_and_cluster_image(\"trees_depth.png\", use_hsv=False, n_clusters=3)"
   ]
  },
  {
   "cell_type": "code",
   "execution_count": null,
   "metadata": {
    "tags": []
   },
   "outputs": [],
   "source": [
    "read_and_cluster_image(\"staged_apple.png\", use_hsv=False, n_clusters=3)"
   ]
  },
  {
   "cell_type": "code",
   "execution_count": null,
   "metadata": {
    "tags": []
   },
   "outputs": [],
   "source": [
    "# Compare the above with hsv versus not - note that this throws a warning for me\n",
    "read_and_cluster_image(\"staged_apple.png\", use_hsv=True, n_clusters=3)"
   ]
  },
  {
   "cell_type": "code",
   "execution_count": null,
   "metadata": {
    "tags": []
   },
   "outputs": [],
   "source": [
    "read_and_cluster_image(\"real_apple.jpg\", True, 4)"
   ]
  },
  {
   "cell_type": "code",
   "execution_count": null,
   "metadata": {
    "tags": []
   },
   "outputs": [],
   "source": [
    "read_and_cluster_image(\"trees.png\", True, 2)"
   ]
  },
  {
   "cell_type": "markdown",
   "metadata": {},
   "source": [
    "<!-- END QUESTION -->\n",
    "\n",
    "## Hours and collaborators\n",
    "Required for every assignment - fill out before you hand-in.\n",
    "\n",
    "Listing names and websites helps you to document who you worked with and what internet help you received in the case of any plagiarism issues. You should list names of anyone (in class or not) who has substantially helped you with an assignment - or anyone you have *helped*. You do not need to list TAs.\n",
    "\n",
    "Listing hours helps us track if the assignments are too long."
   ]
  },
  {
   "cell_type": "code",
   "execution_count": null,
   "metadata": {
    "tags": []
   },
   "outputs": [],
   "source": [
    "\n",
    "# List of names (creates a set)\n",
    "worked_with_names = {\"not filled out\"}\n",
    "# List of URLS (creates a set)\n",
    "websites = {\"not filled out\"}\n",
    "# Approximate number of hours, including lab/in-class time\n",
    "hours = -1.5\n",
    "\n",
    "# for all row, column in all_indices_from_where\n",
    "#.   if this is the column for wrist torque \n",
    "#.      print(f\"Row: {r}, Time step: {c // n_time_steps} Successful y/n: {pick_data[r, -1] == 1}, value: {pick_data[r, c]}\")"
   ]
  },
  {
   "cell_type": "code",
   "execution_count": null,
   "metadata": {
    "deletable": false,
    "editable": false
   },
   "outputs": [],
   "source": [
    "grader.check(\"hours_collaborators\")"
   ]
  },
  {
   "cell_type": "markdown",
   "metadata": {
    "deletable": false,
    "editable": false
   },
   "source": [
    "---\n",
    "\n",
    "To double-check your work, the cell below will rerun all of the autograder tests."
   ]
  },
  {
   "cell_type": "code",
   "execution_count": null,
   "metadata": {
    "deletable": false,
    "editable": false
   },
   "outputs": [],
   "source": [
    "grader.check_all()"
   ]
  },
  {
   "cell_type": "markdown",
   "metadata": {
    "deletable": false,
    "editable": false
   },
   "source": [
    "## Submission\n",
    "\n",
    "Make sure you have run all cells in your notebook in order before running the cell below, so that all images/graphs appear in the output. The cell below will generate a zip file for you to submit. **Please save before exporting!**\n",
    "\n",
    "Submit through gradescope, image kmeans mask"
   ]
  },
  {
   "cell_type": "code",
   "execution_count": null,
   "metadata": {
    "deletable": false,
    "editable": false
   },
   "outputs": [],
   "source": [
    "# Save your notebook first, then run this cell to export your submission.\n",
    "grader.export()"
   ]
  },
  {
   "cell_type": "markdown",
   "metadata": {},
   "source": [
    " "
   ]
  }
 ],
 "metadata": {
  "kernelspec": {
   "display_name": "Python 3",
   "language": "python",
   "name": "python3"
  },
  "language_info": {
   "codemirror_mode": {
    "name": "ipython",
    "version": 3
   },
   "file_extension": ".py",
   "mimetype": "text/x-python",
   "name": "python",
   "nbconvert_exporter": "python",
   "pygments_lexer": "ipython3",
   "version": "3.7.3"
  },
  "otter": {
   "tests": {
    "hours_collaborators": {
     "name": "hours_collaborators",
     "points": 1,
     "suites": [
      {
       "cases": [
        {
         "code": ">>> assert(not \"not filled out\" in worked_with_names)\n",
         "hidden": false,
         "locked": false
        },
        {
         "code": ">>> assert(not \"not filled out\" in websites)\n",
         "hidden": false,
         "locked": false
        },
        {
         "code": ">>> assert(hours > 0)\n",
         "hidden": false,
         "locked": false
        }
       ],
       "scored": true,
       "setup": "",
       "teardown": "",
       "type": "doctest"
      }
     ]
    }
   }
  }
 },
 "nbformat": 4,
 "nbformat_minor": 2
}
